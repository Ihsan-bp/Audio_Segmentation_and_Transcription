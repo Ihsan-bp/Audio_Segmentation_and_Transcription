{
  "nbformat": 4,
  "nbformat_minor": 0,
  "metadata": {
    "colab": {
      "provenance": []
    },
    "kernelspec": {
      "name": "python3",
      "display_name": "Python 3"
    },
    "language_info": {
      "name": "python"
    }
  },
  "cells": [
    {
      "cell_type": "markdown",
      "source": [
        "#1.segmentation"
      ],
      "metadata": {
        "id": "DWkq1IgslSu_"
      }
    },
    {
      "cell_type": "markdown",
      "source": [
        "###installing pydub"
      ],
      "metadata": {
        "id": "di7H8EvOlgGQ"
      }
    },
    {
      "cell_type": "code",
      "source": [
        "!pip install pydub"
      ],
      "metadata": {
        "id": "Dt9Y5HtDelII"
      },
      "execution_count": null,
      "outputs": []
    },
    {
      "cell_type": "markdown",
      "source": [
        "###importing libraries"
      ],
      "metadata": {
        "id": "ItbWYPa4lwxE"
      }
    },
    {
      "cell_type": "code",
      "source": [
        "from pydub import AudioSegment\n",
        "from pydub.silence import split_on_silence"
      ],
      "metadata": {
        "id": "e-Qhmin1lo9i"
      },
      "execution_count": 17,
      "outputs": []
    },
    {
      "cell_type": "markdown",
      "source": [
        "###loding audio and spliting into segments"
      ],
      "metadata": {
        "id": "_Jd4sMLCniUF"
      }
    },
    {
      "cell_type": "code",
      "execution_count": 25,
      "metadata": {
        "id": "58Z2C0RZeakz"
      },
      "outputs": [],
      "source": [
        "# Load the original audio (replace 'your_audio_segment.mp3' with your audio file)\n",
        "audio = AudioSegment.from_file(\"0305e611-e987-42c9-9bca-1e3a5cbf49ca\")\n",
        "\n",
        "# Define silence threshold and minimum silence length (adjust as needed)\n",
        "silence_thresh = -40  # Adjust this value based on your audio\n",
        "min_silence_len = 1000  # Minimum silence length in milliseconds\n",
        "\n",
        "# Split the audio on silence\n",
        "segments = split_on_silence(audio, silence_thresh=silence_thresh, min_silence_len=min_silence_len)\n",
        "\n",
        "# Export each audio segment to .wav format\n",
        "for i, segment in enumerate(segments):\n",
        "    # Define the output file name for the segment (e.g., output_segment_0.wav, output_segment_1.wav, etc.)\n",
        "    output_file = f\"output_segment_{i}.wav\"\n",
        "\n",
        "    # Convert the audio segment to .wav format and save it\n",
        "    segment.export(output_file, format=\"wav\")\n",
        "\n",
        "# All the audio segments are now saved in .wav format\n"
      ]
    },
    {
      "cell_type": "markdown",
      "source": [
        "#2.Transcription"
      ],
      "metadata": {
        "id": "rNFh_tNcnokM"
      }
    },
    {
      "cell_type": "markdown",
      "source": [
        "###Install the Whisper ASR model"
      ],
      "metadata": {
        "id": "eGqoljsMnv0p"
      }
    },
    {
      "cell_type": "code",
      "source": [
        "!pip install -U git+https://github.com/openai/whisper.git"
      ],
      "metadata": {
        "id": "FpC9lFR7euEZ"
      },
      "execution_count": null,
      "outputs": []
    },
    {
      "cell_type": "markdown",
      "source": [
        "###Import the necessary libraries"
      ],
      "metadata": {
        "id": "Ypv7L2_un5nX"
      }
    },
    {
      "cell_type": "code",
      "source": [
        "import whisper\n",
        "import numpy as np\n",
        "from pydub import AudioSegment"
      ],
      "metadata": {
        "id": "4Ol_WAWwguNp"
      },
      "execution_count": 5,
      "outputs": []
    },
    {
      "cell_type": "markdown",
      "source": [
        "###Load the Whisper ASR model"
      ],
      "metadata": {
        "id": "wmdJWH_Hn9dq"
      }
    },
    {
      "cell_type": "code",
      "source": [
        "# Load the Whisper ASR model\n",
        "model = whisper.load_model('base')\n"
      ],
      "metadata": {
        "colab": {
          "base_uri": "https://localhost:8080/"
        },
        "id": "snZflPAnh5MW",
        "outputId": "8932fd0c-4a5e-4eab-bb78-e5040d151463"
      },
      "execution_count": 6,
      "outputs": [
        {
          "output_type": "stream",
          "name": "stderr",
          "text": [
            "100%|███████████████████████████████████████| 139M/139M [00:02<00:00, 60.6MiB/s]\n"
          ]
        }
      ]
    },
    {
      "cell_type": "markdown",
      "source": [
        "###Initialize a list to store the transcriptions"
      ],
      "metadata": {
        "id": "DoaYbf2poRwD"
      }
    },
    {
      "cell_type": "code",
      "source": [
        "transcriptions = []"
      ],
      "metadata": {
        "id": "y3ESz0fLh9d3"
      },
      "execution_count": 7,
      "outputs": []
    },
    {
      "cell_type": "markdown",
      "source": [
        "###Iterate through the saved audio segments and transcribe each one"
      ],
      "metadata": {
        "id": "XHWtuvPaoVmD"
      }
    },
    {
      "cell_type": "code",
      "source": [
        "# result=model.transcribe(\"output_segment_{0}.wav\", fp16=False)\n",
        "import whisper\n",
        "\n",
        "# Load the Whisper ASR model\n",
        "model = whisper.load_model('base')"
      ],
      "metadata": {
        "id": "sQsdodgnyR5w"
      },
      "execution_count": 26,
      "outputs": []
    },
    {
      "cell_type": "code",
      "source": [
        "# Initialize a list to store the transcriptions\n",
        "transcriptions = []\n",
        "\n",
        "# Iterate through audio segments and transcribe each one\n",
        "for i, segment in enumerate(segments):\n",
        "    print(f\"Transcribing Segment {i}...\")\n",
        "\n",
        "    # Define the output file name for the segment\n",
        "    output_file = f\"output_segment_{i}.wav\"\n",
        "\n",
        "    # Transcribe the audio segment using the Whisper ASR model\n",
        "    result = model.transcribe(output_file, fp16=False)\n",
        "\n",
        "    # Append the transcription to the list\n",
        "    transcriptions.append(result)\n",
        "\n",
        "# Now, the `transcriptions` list contains the text transcriptions of your audio segments\n",
        "\n"
      ],
      "metadata": {
        "colab": {
          "base_uri": "https://localhost:8080/"
        },
        "id": "jHCIYxyVi_ci",
        "outputId": "2074186e-e594-4a63-9798-8e943a4fe397"
      },
      "execution_count": 27,
      "outputs": [
        {
          "output_type": "stream",
          "name": "stdout",
          "text": [
            "Transcribing Segment 0...\n",
            "Transcribing Segment 1...\n",
            "Transcribing Segment 2...\n",
            "Transcribing Segment 3...\n",
            "Transcribing Segment 4...\n",
            "Transcribing Segment 5...\n",
            "Transcribing Segment 6...\n"
          ]
        }
      ]
    },
    {
      "cell_type": "code",
      "source": [],
      "metadata": {
        "id": "MmEu_UNT6qdS"
      },
      "execution_count": null,
      "outputs": []
    },
    {
      "cell_type": "markdown",
      "source": [
        "###printing all the transcriptions for each segment"
      ],
      "metadata": {
        "id": "v9-JwEFkodRL"
      }
    },
    {
      "cell_type": "code",
      "source": [
        "for i, transcription in enumerate(transcriptions):\n",
        "    text = transcription['text']\n",
        "    print(f\"Segment {i + 1} Transcription: {text}\")\n"
      ],
      "metadata": {
        "colab": {
          "base_uri": "https://localhost:8080/"
        },
        "id": "edU4Z0iSlAA5",
        "outputId": "6ef8dc4d-1c62-4803-99b4-650d382a6b36"
      },
      "execution_count": 28,
      "outputs": [
        {
          "output_type": "stream",
          "name": "stdout",
          "text": [
            "Segment 1 Transcription: \n",
            "Segment 2 Transcription:  Hello. Hello. Hi, Joshad. Hi. So this is actually I'm calling from our a team. You have made an query on Facebook regarding the travel booking to Manali. Yeah. Yeah. Can I know the details like for which date has it looked for which date are you looking for? I'm looking for a week forward from now for for for my friends and me.\n",
            "Segment 3 Transcription:  How many people sorry? Total 5 including me. Okay and can you confirm the date? It will be one week from now. It will be one week from now. So today is 16, 16 plus 7 that is 23 around like 23, 24, right? Yeah around 24. 24. Okay. 4 days and 5 nights. Okay 4 4 days that is 5 days and 4 nights right? Yeah. That is how it works.\n",
            "Segment 4 Transcription:  Okay, so can you know your preferences like what kind of room sorry looking for is it like you are looking for hotels or a black locker hostel or kind of a resort? I think I'll choose a resort it is better for me. Resorts with sumical? No, it is already very cold there. Sorry, it is already very cold there. So it's already very cold. Okay, so we have two resorts near new manani. I'll send you the details over what's the billet work for you? Yes, sure. Okay, anything else you want to ask except the rooms like do you also looking for transportation from Delhi? We go by transportation from Delhi to Manaliya. No, I'm taking my own car. Okay, and do you want to include any activities? I just have a preference for my hotel or resort anything if it can be near Hadimba the temple.\n",
            "Segment 5 Transcription:  It can be near your heart. Okay. Noted. And what about the activities? Are you looking for any activities in Manali? Not so much. We are there for only some fun and\n",
            "Segment 6 Transcription:  You know, the boys fun.\n",
            "Segment 7 Transcription:  Okay, got it. Okay, sir. We send you the details over WhatsApp. Please have a look and let us know what suits best for you. Sure. Yeah. Thank you. Okay. Thank you.\n"
          ]
        }
      ]
    },
    {
      "cell_type": "markdown",
      "source": [
        "as you can see,the transcription is OKEY but segmentation is not accurate , we have adjust the parameters, silence_thresh and  min_silence_len.\n",
        "\n",
        "silence_thresh =  This parameter defines the audio amplitude threshold below which audio is considered silence.\n",
        "\n",
        "min_silence_len = This parameter sets the minimum duration of silence in milliseconds required to split the audio."
      ],
      "metadata": {
        "id": "VAJxK0wRznM1"
      }
    },
    {
      "cell_type": "markdown",
      "source": [
        "###adjust parameter"
      ],
      "metadata": {
        "id": "trMZJTbs0yzr"
      }
    },
    {
      "cell_type": "code",
      "source": [
        "# Adjust silence threshold and minimum silence length (for example)\n",
        "silence_thresh = -30  # Lower value for quieter sounds\n",
        "min_silence_len = 500  # Shorter silence duration\n",
        "\n",
        "# Split the audio on silence with adjusted parameters\n",
        "segments = split_on_silence(audio, silence_thresh=silence_thresh, min_silence_len=min_silence_len)\n",
        "\n",
        "# Export each audio segment to .wav format\n",
        "for i, segment in enumerate(segments):\n",
        "    # Define the output file name for the segment (e.g., output_segment_0.wav, output_segment_1.wav, etc.)\n",
        "    output_file = f\"output_segment_{i}.wav\"\n",
        "\n",
        "    # Convert the audio segment to .wav format and save it\n",
        "    segment.export(output_file, format=\"wav\")\n",
        "\n",
        "# All the audio segments are now saved in .wav format\n"
      ],
      "metadata": {
        "id": "j95pUljstKdG"
      },
      "execution_count": 29,
      "outputs": []
    },
    {
      "cell_type": "code",
      "source": [
        "# Initialize a list to store the transcriptions\n",
        "transcriptions = []\n",
        "\n",
        "# Iterate through audio segments and transcribe each one\n",
        "for i, segment in enumerate(segments):\n",
        "    print(f\"Transcribing Segment {i}...\")\n",
        "\n",
        "    # Define the output file name for the segment\n",
        "    output_file = f\"output_segment_{i}.wav\"\n",
        "\n",
        "    # Transcribe the audio segment using the Whisper ASR model\n",
        "    result = model.transcribe(output_file, fp16=False)\n",
        "\n",
        "    # Append the transcription to the list\n",
        "    transcriptions.append(result)\n",
        "\n",
        "# Now, the `transcriptions` list contains the text transcriptions of your audio segments\n"
      ],
      "metadata": {
        "colab": {
          "base_uri": "https://localhost:8080/"
        },
        "id": "EC7Dkoqe0uF-",
        "outputId": "8b073d61-dbb8-4a30-a0d1-42c14970afb1"
      },
      "execution_count": 30,
      "outputs": [
        {
          "output_type": "stream",
          "name": "stdout",
          "text": [
            "Transcribing Segment 0...\n",
            "Transcribing Segment 1...\n",
            "Transcribing Segment 2...\n",
            "Transcribing Segment 3...\n",
            "Transcribing Segment 4...\n",
            "Transcribing Segment 5...\n",
            "Transcribing Segment 6...\n",
            "Transcribing Segment 7...\n",
            "Transcribing Segment 8...\n",
            "Transcribing Segment 9...\n",
            "Transcribing Segment 10...\n",
            "Transcribing Segment 11...\n",
            "Transcribing Segment 12...\n",
            "Transcribing Segment 13...\n",
            "Transcribing Segment 14...\n",
            "Transcribing Segment 15...\n",
            "Transcribing Segment 16...\n",
            "Transcribing Segment 17...\n",
            "Transcribing Segment 18...\n",
            "Transcribing Segment 19...\n",
            "Transcribing Segment 20...\n",
            "Transcribing Segment 21...\n",
            "Transcribing Segment 22...\n",
            "Transcribing Segment 23...\n",
            "Transcribing Segment 24...\n",
            "Transcribing Segment 25...\n",
            "Transcribing Segment 26...\n",
            "Transcribing Segment 27...\n",
            "Transcribing Segment 28...\n",
            "Transcribing Segment 29...\n",
            "Transcribing Segment 30...\n",
            "Transcribing Segment 31...\n",
            "Transcribing Segment 32...\n",
            "Transcribing Segment 33...\n",
            "Transcribing Segment 34...\n",
            "Transcribing Segment 35...\n",
            "Transcribing Segment 36...\n",
            "Transcribing Segment 37...\n",
            "Transcribing Segment 38...\n",
            "Transcribing Segment 39...\n",
            "Transcribing Segment 40...\n",
            "Transcribing Segment 41...\n",
            "Transcribing Segment 42...\n",
            "Transcribing Segment 43...\n",
            "Transcribing Segment 44...\n",
            "Transcribing Segment 45...\n",
            "Transcribing Segment 46...\n"
          ]
        }
      ]
    },
    {
      "cell_type": "markdown",
      "source": [
        "we got 46 segments!"
      ],
      "metadata": {
        "id": "1tHlLVpOTnXi"
      }
    },
    {
      "cell_type": "code",
      "source": [
        "# Loading transcripteed segments\n",
        "for i, transcription in enumerate(transcriptions):\n",
        "    text = transcription['text']\n",
        "    print(f\"Segment {i + 1} Transcription: {text}\")"
      ],
      "metadata": {
        "colab": {
          "base_uri": "https://localhost:8080/"
        },
        "id": "utxxUMaX0-4s",
        "outputId": "bdb58205-09b3-4e11-9a57-3c773ae44f4c"
      },
      "execution_count": 40,
      "outputs": [
        {
          "output_type": "stream",
          "name": "stdout",
          "text": [
            "Segment 1 Transcription:  Thank you.\n",
            "Segment 2 Transcription:  Hello.\n",
            "Segment 3 Transcription:  به وисفز بامنه\n",
            "Segment 4 Transcription:  Hi.\n",
            "Segment 5 Transcription:  So this is actually I'm calling from Maharaj, you have made an query on Facebook regarding the travel booking to Manali right?\n",
            "Segment 6 Transcription:  BYO ूूूू ूूूूू ूूूूू ूॆृ॔ूू?\n",
            "Segment 7 Transcription:  وروچ لیٹاری لکھو فالی لکھن\n",
            "Segment 8 Transcription:  I'm looking forward to it now.\n",
            "Segment 9 Transcription:  V4 warmth back there\n",
            "Segment 10 Transcription:  How many people sorry?\n",
            "Segment 11 Transcription:  Total 5 including me.\n",
            "Segment 12 Transcription:  Okay, I'm going to confirm the date.\n",
            "Segment 13 Transcription:  It will be one week from now.\n",
            "Segment 14 Transcription:  It will be one week from now. So today is 16, 16 plus 7, that is 23, around 23, 24, 8.\n",
            "Segment 15 Transcription:  Yeah, I don't want to be in the floor.\n",
            "Segment 16 Transcription:  Thank you for that.\n",
            "Segment 17 Transcription:  for four days and\n",
            "Segment 18 Transcription:  Thank you.\n",
            "Segment 19 Transcription:  Thank you for following. That is 5. 7. 4. 9. 3. 4. 5. 7. 9. 3. 4. 5. 6. 6. 6. 6. 6. 6. 6. 6. 6. 6. 6. 6. 6. 6. 6. 6.\n",
            "Segment 20 Transcription:  Yeah, that is how it works.\n",
            "Segment 21 Transcription:  Okay, so can you know your preferences like what kind of rooms are you looking for? Is it like you are looking for hotels or\n",
            "Segment 22 Transcription:  Black, Black andWhite schools or either we go out\n",
            "Segment 23 Transcription:  I think I'll choose a result.\n",
            "Segment 24 Transcription:  is better for me. Resort with Simulpal?\n",
            "Segment 25 Transcription:  No.\n",
            "Segment 26 Transcription:  evet,ски Walking\n",
            "Segment 27 Transcription:  Sorry.\n",
            "Segment 28 Transcription:  It is already very cold there.\n",
            "Segment 29 Transcription:  súper owners del wspól.\n",
            "Segment 30 Transcription:  Okay so we have two results near new management.\n",
            "Segment 31 Transcription:  I will send you the details over what's available for you.\n",
            "Segment 32 Transcription:  Et à sure !\n",
            "Segment 33 Transcription:  Okay.\n",
            "Segment 34 Transcription:  Anything else you want to ask?\n",
            "Segment 35 Transcription:  the rooms. Do you also looking for transportation from Delhi? We go by transportation from Delhi to Manaliya.\n",
            "Segment 36 Transcription:  I know I'm taking my own.\n",
            "Segment 37 Transcription: 沒問題的\n",
            "Segment 38 Transcription:  Okay.\n",
            "Segment 39 Transcription:  and we want to include any activities.\n",
            "Segment 40 Transcription:  I just have reference from a hotel or resort anything if it can be near Hadim Badi Bhattam.\n",
            "Segment 41 Transcription:  can we leave that being\n",
            "Segment 42 Transcription:  and what about the activities? Are you looking for any activities in Manali?\n",
            "Segment 43 Transcription:  Not so much. We are there for only some fun and\n",
            "Segment 44 Transcription:  you know, the boys' fans.\n",
            "Segment 45 Transcription:  Okay, Bonnie.\n",
            "Segment 46 Transcription:  Okay, so Shar, we send you the details over WhatsApp. Please have a look and let us know what suits best for you.\n",
            "Segment 47 Transcription:  Thank you. Okay. Thank you.\n"
          ]
        }
      ]
    },
    {
      "cell_type": "markdown",
      "source": [
        "one think is sure from this transcription , **QUALITY OF THE AUDIO IS NOT GOOD**"
      ],
      "metadata": {
        "id": "PT8l0cH1TEkL"
      }
    },
    {
      "cell_type": "markdown",
      "source": [
        "###Creating a JSON file that contains the segmented and transcribed conversation"
      ],
      "metadata": {
        "id": "h64831ygA5BC"
      }
    },
    {
      "cell_type": "code",
      "source": [
        "import json\n",
        "\n",
        "# Initialize a list to store the speaker turns\n",
        "speaker_turns = []\n",
        "\n",
        "# Define the initial speaker as \"caller\"\n",
        "current_speaker = \"caller\"\n",
        "current_turn = []\n",
        "\n",
        "# Iterate through the transcriptions\n",
        "for i, transcription in enumerate(transcriptions):\n",
        "    text = transcription['text']\n",
        "\n",
        "    if text.strip():\n",
        "        current_turn.append({\"speaker\": current_speaker, \"text\": text.strip()})\n",
        "    else:\n",
        "        # If the text is empty, it's a turn switch\n",
        "        if current_turn:\n",
        "            speaker_turns.append(current_turn)\n",
        "        current_turn = []\n",
        "        # Switch the speaker\n",
        "        current_speaker = \"caller\" if current_speaker == \"callee\" else \"callee\"\n",
        "\n",
        "# Append the last turn\n",
        "if current_turn:\n",
        "    speaker_turns.append(current_turn)\n",
        "\n",
        "# Create a JSON structure\n",
        "conversation_data = []\n",
        "for i, turn in enumerate(speaker_turns):\n",
        "    conversation_data.append({\n",
        "        \"turn\": i + 1,\n",
        "        \"speaker\": turn[0][\"speaker\"],  # Assuming each turn starts with one speaker\n",
        "        \"text\": [utterance[\"text\"] for utterance in turn]\n",
        "    })\n",
        "\n",
        "# Save the conversation data to a JSON file\n",
        "with open(\"conversation_data.json\", \"w\") as json_file:\n",
        "    json.dump(conversation_data, json_file, indent=4)\n",
        "\n",
        "print(\"Conversation data saved to conversation_data.json\")\n"
      ],
      "metadata": {
        "colab": {
          "base_uri": "https://localhost:8080/"
        },
        "id": "o7wTFqB_9wqY",
        "outputId": "651cfd1e-ee1a-4f35-95d1-3379a2501756"
      },
      "execution_count": 41,
      "outputs": [
        {
          "output_type": "stream",
          "name": "stdout",
          "text": [
            "Conversation data saved to conversation_data.json\n"
          ]
        }
      ]
    },
    {
      "cell_type": "markdown",
      "source": [
        "###printing the content of the json *file*"
      ],
      "metadata": {
        "id": "9KjoV1-IAxFZ"
      }
    },
    {
      "cell_type": "code",
      "source": [
        "import json\n",
        "\n",
        "# Load the conversation data from the JSON file\n",
        "with open(\"conversation_data.json\", \"r\") as json_file:\n",
        "    conversation_data = json.load(json_file)\n",
        "\n",
        "# Iterate through the conversation data and print it\n",
        "for turn in conversation_data:\n",
        "    print(f\"Turn {turn['turn']}: {turn['speaker']} says -\")\n",
        "    for text in turn['text']:\n",
        "        print(f\"  {text}\")\n"
      ],
      "metadata": {
        "colab": {
          "base_uri": "https://localhost:8080/"
        },
        "id": "hZ5QtwQJ9760",
        "outputId": "b7853ead-e39b-45d6-f68d-62dbcdb9ec34"
      },
      "execution_count": 42,
      "outputs": [
        {
          "output_type": "stream",
          "name": "stdout",
          "text": [
            "Turn 1: caller says -\n",
            "  Thank you.\n",
            "  Hello.\n",
            "  به وисفز بامنه\n",
            "  Hi.\n",
            "  So this is actually I'm calling from Maharaj, you have made an query on Facebook regarding the travel booking to Manali right?\n",
            "  BYO ूूूू ूूूूू ूूूूू ूॆृ॔ूू?\n",
            "  وروچ لیٹاری لکھو فالی لکھن\n",
            "  I'm looking forward to it now.\n",
            "  V4 warmth back there\n",
            "  How many people sorry?\n",
            "  Total 5 including me.\n",
            "  Okay, I'm going to confirm the date.\n",
            "  It will be one week from now.\n",
            "  It will be one week from now. So today is 16, 16 plus 7, that is 23, around 23, 24, 8.\n",
            "  Yeah, I don't want to be in the floor.\n",
            "  Thank you for that.\n",
            "  for four days and\n",
            "  Thank you.\n",
            "  Thank you for following. That is 5. 7. 4. 9. 3. 4. 5. 7. 9. 3. 4. 5. 6. 6. 6. 6. 6. 6. 6. 6. 6. 6. 6. 6. 6. 6. 6. 6.\n",
            "  Yeah, that is how it works.\n",
            "  Okay, so can you know your preferences like what kind of rooms are you looking for? Is it like you are looking for hotels or\n",
            "  Black, Black andWhite schools or either we go out\n",
            "  I think I'll choose a result.\n",
            "  is better for me. Resort with Simulpal?\n",
            "  No.\n",
            "  evet,ски Walking\n",
            "  Sorry.\n",
            "  It is already very cold there.\n",
            "  súper owners del wspól.\n",
            "  Okay so we have two results near new management.\n",
            "  I will send you the details over what's available for you.\n",
            "  Et à sure !\n",
            "  Okay.\n",
            "  Anything else you want to ask?\n",
            "  the rooms. Do you also looking for transportation from Delhi? We go by transportation from Delhi to Manaliya.\n",
            "  I know I'm taking my own.\n",
            "  沒問題的\n",
            "  Okay.\n",
            "  and we want to include any activities.\n",
            "  I just have reference from a hotel or resort anything if it can be near Hadim Badi Bhattam.\n",
            "  can we leave that being\n",
            "  and what about the activities? Are you looking for any activities in Manali?\n",
            "  Not so much. We are there for only some fun and\n",
            "  you know, the boys' fans.\n",
            "  Okay, Bonnie.\n",
            "  Okay, so Shar, we send you the details over WhatsApp. Please have a look and let us know what suits best for you.\n",
            "  Thank you. Okay. Thank you.\n"
          ]
        }
      ]
    },
    {
      "cell_type": "markdown",
      "source": [
        "as you can see the transcription model get confused when we reduce min_silence_len"
      ],
      "metadata": {
        "id": "0YD-r_GA3Eyz"
      }
    },
    {
      "cell_type": "markdown",
      "source": [
        "it will be difficult to get a transcription in way we wanted , because when we reduce the silence timing thr transcrption model fail to transcribe the voice in to text exactly."
      ],
      "metadata": {
        "id": "3K1X6oGp33fX"
      }
    },
    {
      "cell_type": "markdown",
      "source": [
        "##situation i'm in !"
      ],
      "metadata": {
        "id": "xTI1X9zSDh3I"
      }
    },
    {
      "cell_type": "markdown",
      "source": [
        "**Assessment is, using PyDub  segments audio conversations into belonging to the caller and the callee and transcribe them into text by using whisper. However, I'm facing a trade-off between two important aspects. If I set the segmentation parameters to consider even very short pauses as silence (silence_thresh set to a high negative value and min_silence_len set to a low value), I can obtain more segments that match the conversational flow. However, this approach often results in challenging transcriptions, including unknown languages or inaccuracies.**\n",
        "\n",
        "**On the other hand, if I adjust the parameters to be more strict in identifying silence, I can get fewer but more accurate segments. The challenge is that these segments might not align perfectly with the conversational turns, which can make it more challenging to differentiate between the caller and the callee during transcription.**"
      ],
      "metadata": {
        "id": "7dBAhdSyDnIr"
      }
    },
    {
      "cell_type": "markdown",
      "source": [
        "##Thinking out of the box"
      ],
      "metadata": {
        "id": "oneCO92HFMvZ"
      }
    },
    {
      "cell_type": "markdown",
      "source": [
        "I've decided to try a different approach to resolve the issue. Instead of segmenting the audio directly, I'm going to transcribe the entire audio file first. Then, I'll split the transcription into segments wherever I find punctuation marks like periods (.), exclamation points (!), and question marks (?). These punctuation marks often indicate natural breaks in the conversation. This way, I can create segments based on the flow of the conversation in the transcribed text, which might help me overcome the segmentation and transcription challenge I was facing earlier."
      ],
      "metadata": {
        "id": "HfSEzSIYGjRJ"
      }
    },
    {
      "cell_type": "markdown",
      "source": [
        "###coverting audio into .wav format to process"
      ],
      "metadata": {
        "id": "Onxd94EnUPOa"
      }
    },
    {
      "cell_type": "code",
      "source": [
        "# Export the audio to WAV format\n",
        "audio.export(\"0305e611-e987-42c9-9bca-1e3a5cbf49ca\", format=\"wav\")"
      ],
      "metadata": {
        "colab": {
          "base_uri": "https://localhost:8080/"
        },
        "id": "dQJkUyzP5DtK",
        "outputId": "f46b3357-480e-490d-aea3-4fa3e8913111"
      },
      "execution_count": 44,
      "outputs": [
        {
          "output_type": "execute_result",
          "data": {
            "text/plain": [
              "<_io.BufferedRandom name='0305e611-e987-42c9-9bca-1e3a5cbf49ca'>"
            ]
          },
          "metadata": {},
          "execution_count": 44
        }
      ]
    },
    {
      "cell_type": "code",
      "source": [
        "#setting path\n",
        "audio_path = \"0305e611-e987-42c9-9bca-1e3a5cbf49ca.wav\"\n",
        "# Transcribe the entire audio file\n",
        "result = model.transcribe(audio_path, fp16=False)"
      ],
      "metadata": {
        "id": "__D_So3BHfxQ"
      },
      "execution_count": 63,
      "outputs": []
    },
    {
      "cell_type": "code",
      "source": [
        "print(result)"
      ],
      "metadata": {
        "colab": {
          "base_uri": "https://localhost:8080/"
        },
        "id": "cPbO8ppvHrbW",
        "outputId": "a260baf0-7d1b-4b9d-df76-b13e5b84c628"
      },
      "execution_count": 53,
      "outputs": [
        {
          "output_type": "stream",
          "name": "stdout",
          "text": [
            "{'text': \" Hello. Hello. Hi, Joshad. Hi. Hi. So this is actually I'm calling from my wife, you have a maiden query on Facebook regarding the travel booking to Manali right? Yeah. Yeah. So can I know the details like for which date or for which date or your local phone? I'm looking for a week forward from now for for my friends and me. How many people sorry? Total five including me. Okay. And can you confirm the dates? It will be one week from now. It will be one week from now. So today is 16 16 plus seven that is 23 around like 23 24 8. Yeah. Around 24 24. Okay. Four days and five nights. Okay. Four days. That is five days and four nights right? Yeah. That is how it works. Okay. So can you know your preferences like what kind of room sorry looking for is it like you are looking for hotels or a black market hostel or kind of a resort? I think I'll choose a resort. It is better for me. Resorts with swimming pool? No. It is already very cold there. Sorry. It is already very cold there. So it's already very cold there. Okay. Okay. Okay. So we have two resorts near new manani. Yeah. I'll send you the details over what's the valid work for you? Yes. Sure. Okay. Anything else you want to ask except the rooms like do you also looking for transportation from Delhi? We go by transportation from Delhi to Manali. No. I'm taking my own car. You are taking your own car. Okay. And do you want to include any activities? I just have a reference from a hotel or resort anything if it can be near Hadim Bhadivit temple. It can be near Hadim Bhadivit temple. Okay. Noted. And what about the activities? Are you looking for any activities in Manali? Not so much. We are there for only some fun and you know the boys fun. Okay. Got it. Okay.\", 'segments': [{'id': 0, 'seek': 0, 'start': 0.0, 'end': 12.280000000000001, 'text': \" Hello. Hello. Hi, Joshad. Hi. Hi. So this is actually I'm calling from my wife, you have\", 'tokens': [50364, 2425, 13, 2425, 13, 2421, 11, 9785, 345, 13, 2421, 13, 2421, 13, 407, 341, 307, 767, 286, 478, 5141, 490, 452, 3836, 11, 291, 362, 50978], 'temperature': 0.0, 'avg_logprob': -0.6534513708663313, 'compression_ratio': 1.497142857142857, 'no_speech_prob': 0.5933060050010681}, {'id': 1, 'seek': 0, 'start': 12.280000000000001, 'end': 17.88, 'text': ' a maiden query on Facebook regarding the travel booking to Manali right? Yeah. Yeah.', 'tokens': [50978, 257, 48515, 14581, 322, 4384, 8595, 264, 3147, 34424, 281, 2458, 5103, 558, 30, 865, 13, 865, 13, 51258], 'temperature': 0.0, 'avg_logprob': -0.6534513708663313, 'compression_ratio': 1.497142857142857, 'no_speech_prob': 0.5933060050010681}, {'id': 2, 'seek': 0, 'start': 17.88, 'end': 24.16, 'text': \" So can I know the details like for which date or for which date or your local phone? I'm\", 'tokens': [51258, 407, 393, 286, 458, 264, 4365, 411, 337, 597, 4002, 420, 337, 597, 4002, 420, 428, 2654, 2593, 30, 286, 478, 51572], 'temperature': 0.0, 'avg_logprob': -0.6534513708663313, 'compression_ratio': 1.497142857142857, 'no_speech_prob': 0.5933060050010681}, {'id': 3, 'seek': 2416, 'start': 24.16, 'end': 31.64, 'text': ' looking for a week forward from now for for my friends and me. How many people sorry? Total', 'tokens': [50364, 1237, 337, 257, 1243, 2128, 490, 586, 337, 337, 452, 1855, 293, 385, 13, 1012, 867, 561, 2597, 30, 23170, 50738], 'temperature': 0.0, 'avg_logprob': -0.2886349296569824, 'compression_ratio': 1.6666666666666667, 'no_speech_prob': 0.4408896267414093}, {'id': 4, 'seek': 2416, 'start': 31.64, 'end': 37.84, 'text': ' five including me. Okay. And can you confirm the dates? It will be one week from now. It will', 'tokens': [50738, 1732, 3009, 385, 13, 1033, 13, 400, 393, 291, 9064, 264, 11691, 30, 467, 486, 312, 472, 1243, 490, 586, 13, 467, 486, 51048], 'temperature': 0.0, 'avg_logprob': -0.2886349296569824, 'compression_ratio': 1.6666666666666667, 'no_speech_prob': 0.4408896267414093}, {'id': 5, 'seek': 2416, 'start': 37.84, 'end': 43.96, 'text': ' be one week from now. So today is 16 16 plus seven that is 23 around like 23 24 8. Yeah.', 'tokens': [51048, 312, 472, 1243, 490, 586, 13, 407, 965, 307, 3165, 3165, 1804, 3407, 300, 307, 6673, 926, 411, 6673, 4022, 1649, 13, 865, 13, 51354], 'temperature': 0.0, 'avg_logprob': -0.2886349296569824, 'compression_ratio': 1.6666666666666667, 'no_speech_prob': 0.4408896267414093}, {'id': 6, 'seek': 2416, 'start': 43.96, 'end': 51.400000000000006, 'text': ' Around 24 24. Okay. Four days and five nights. Okay. Four days. That is five days and four', 'tokens': [51354, 17633, 4022, 4022, 13, 1033, 13, 7451, 1708, 293, 1732, 13249, 13, 1033, 13, 7451, 1708, 13, 663, 307, 1732, 1708, 293, 1451, 51726], 'temperature': 0.0, 'avg_logprob': -0.2886349296569824, 'compression_ratio': 1.6666666666666667, 'no_speech_prob': 0.4408896267414093}, {'id': 7, 'seek': 5140, 'start': 51.4, 'end': 58.4, 'text': ' nights right? Yeah. That is how it works. Okay. So can you know your preferences like what kind of', 'tokens': [50364, 13249, 558, 30, 865, 13, 663, 307, 577, 309, 1985, 13, 1033, 13, 407, 393, 291, 458, 428, 21910, 411, 437, 733, 295, 50714], 'temperature': 0.0, 'avg_logprob': -0.320010503133138, 'compression_ratio': 1.7889908256880733, 'no_speech_prob': 0.09864769130945206}, {'id': 8, 'seek': 5140, 'start': 58.4, 'end': 64.4, 'text': ' room sorry looking for is it like you are looking for hotels or a black market hostel or kind of a', 'tokens': [50714, 1808, 2597, 1237, 337, 307, 309, 411, 291, 366, 1237, 337, 22718, 420, 257, 2211, 2142, 48879, 420, 733, 295, 257, 51014], 'temperature': 0.0, 'avg_logprob': -0.320010503133138, 'compression_ratio': 1.7889908256880733, 'no_speech_prob': 0.09864769130945206}, {'id': 9, 'seek': 5140, 'start': 64.4, 'end': 73.16, 'text': \" resort? I think I'll choose a resort. It is better for me. Resorts with swimming pool? No. It is\", 'tokens': [51014, 19606, 30, 286, 519, 286, 603, 2826, 257, 19606, 13, 467, 307, 1101, 337, 385, 13, 5015, 3299, 365, 11989, 7005, 30, 883, 13, 467, 307, 51452], 'temperature': 0.0, 'avg_logprob': -0.320010503133138, 'compression_ratio': 1.7889908256880733, 'no_speech_prob': 0.09864769130945206}, {'id': 10, 'seek': 5140, 'start': 73.16, 'end': 79.28, 'text': \" already very cold there. Sorry. It is already very cold there. So it's already very cold there.\", 'tokens': [51452, 1217, 588, 3554, 456, 13, 4919, 13, 467, 307, 1217, 588, 3554, 456, 13, 407, 309, 311, 1217, 588, 3554, 456, 13, 51758], 'temperature': 0.0, 'avg_logprob': -0.320010503133138, 'compression_ratio': 1.7889908256880733, 'no_speech_prob': 0.09864769130945206}, {'id': 11, 'seek': 7928, 'start': 79.28, 'end': 87.6, 'text': \" Okay. Okay. Okay. So we have two resorts near new manani. Yeah. I'll send you the details\", 'tokens': [50364, 1033, 13, 1033, 13, 1033, 13, 407, 321, 362, 732, 725, 3299, 2651, 777, 587, 3782, 13, 865, 13, 286, 603, 2845, 291, 264, 4365, 50780], 'temperature': 0.0, 'avg_logprob': -0.40843948052853957, 'compression_ratio': 1.6376146788990826, 'no_speech_prob': 0.35262706875801086}, {'id': 12, 'seek': 7928, 'start': 87.6, 'end': 93.4, 'text': \" over what's the valid work for you? Yes. Sure. Okay. Anything else you want to ask\", 'tokens': [50780, 670, 437, 311, 264, 7363, 589, 337, 291, 30, 1079, 13, 4894, 13, 1033, 13, 11998, 1646, 291, 528, 281, 1029, 51070], 'temperature': 0.0, 'avg_logprob': -0.40843948052853957, 'compression_ratio': 1.6376146788990826, 'no_speech_prob': 0.35262706875801086}, {'id': 13, 'seek': 7928, 'start': 93.4, 'end': 101.84, 'text': ' except the rooms like do you also looking for transportation from Delhi? We go by transportation', 'tokens': [51070, 3993, 264, 9396, 411, 360, 291, 611, 1237, 337, 11328, 490, 26680, 30, 492, 352, 538, 11328, 51492], 'temperature': 0.0, 'avg_logprob': -0.40843948052853957, 'compression_ratio': 1.6376146788990826, 'no_speech_prob': 0.35262706875801086}, {'id': 14, 'seek': 7928, 'start': 101.84, 'end': 108.16, 'text': \" from Delhi to Manali. No. I'm taking my own car. You are taking your own car. Okay. And\", 'tokens': [51492, 490, 26680, 281, 2458, 5103, 13, 883, 13, 286, 478, 1940, 452, 1065, 1032, 13, 509, 366, 1940, 428, 1065, 1032, 13, 1033, 13, 400, 51808], 'temperature': 0.0, 'avg_logprob': -0.40843948052853957, 'compression_ratio': 1.6376146788990826, 'no_speech_prob': 0.35262706875801086}, {'id': 15, 'seek': 10816, 'start': 108.16, 'end': 113.47999999999999, 'text': ' do you want to include any activities? I just have a reference from a hotel or resort', 'tokens': [50364, 360, 291, 528, 281, 4090, 604, 5354, 30, 286, 445, 362, 257, 6408, 490, 257, 7622, 420, 19606, 50630], 'temperature': 0.0, 'avg_logprob': -0.3147744560241699, 'compression_ratio': 1.69377990430622, 'no_speech_prob': 0.3129637837409973}, {'id': 16, 'seek': 10816, 'start': 113.47999999999999, 'end': 118.84, 'text': ' anything if it can be near Hadim Bhadivit temple. It can be near Hadim Bhadivit temple. Okay.', 'tokens': [50630, 1340, 498, 309, 393, 312, 2651, 12298, 332, 13550, 345, 592, 270, 10184, 13, 467, 393, 312, 2651, 12298, 332, 13550, 345, 592, 270, 10184, 13, 1033, 13, 50898], 'temperature': 0.0, 'avg_logprob': -0.3147744560241699, 'compression_ratio': 1.69377990430622, 'no_speech_prob': 0.3129637837409973}, {'id': 17, 'seek': 10816, 'start': 118.84, 'end': 124.36, 'text': ' Noted. And what about the activities? Are you looking for any activities in Manali? Not', 'tokens': [50898, 1726, 292, 13, 400, 437, 466, 264, 5354, 30, 2014, 291, 1237, 337, 604, 5354, 294, 2458, 5103, 30, 1726, 51174], 'temperature': 0.0, 'avg_logprob': -0.3147744560241699, 'compression_ratio': 1.69377990430622, 'no_speech_prob': 0.3129637837409973}, {'id': 18, 'seek': 10816, 'start': 124.36, 'end': 132.35999999999999, 'text': ' so much. We are there for only some fun and you know the boys fun. Okay. Got it. Okay.', 'tokens': [51174, 370, 709, 13, 492, 366, 456, 337, 787, 512, 1019, 293, 291, 458, 264, 6347, 1019, 13, 1033, 13, 5803, 309, 13, 1033, 13, 51574], 'temperature': 0.0, 'avg_logprob': -0.3147744560241699, 'compression_ratio': 1.69377990430622, 'no_speech_prob': 0.3129637837409973}], 'language': 'en'}\n"
          ]
        }
      ]
    },
    {
      "cell_type": "markdown",
      "source": [
        " **Transcription output**"
      ],
      "metadata": {
        "id": "JFPtLoWJUYqr"
      }
    },
    {
      "cell_type": "code",
      "source": [
        "transcription_text = result[\"text\"]\n",
        "transcription_text"
      ],
      "metadata": {
        "colab": {
          "base_uri": "https://localhost:8080/",
          "height": 140
        },
        "id": "HiDF5b-JKTi6",
        "outputId": "072d2e29-f55f-4193-e974-7fa78e6890be"
      },
      "execution_count": 55,
      "outputs": [
        {
          "output_type": "execute_result",
          "data": {
            "text/plain": [
              "\" Hello. Hello. Hi, Joshad. Hi. Hi. So this is actually I'm calling from my wife, you have a maiden query on Facebook regarding the travel booking to Manali right? Yeah. Yeah. So can I know the details like for which date or for which date or your local phone? I'm looking for a week forward from now for for my friends and me. How many people sorry? Total five including me. Okay. And can you confirm the dates? It will be one week from now. It will be one week from now. So today is 16 16 plus seven that is 23 around like 23 24 8. Yeah. Around 24 24. Okay. Four days and five nights. Okay. Four days. That is five days and four nights right? Yeah. That is how it works. Okay. So can you know your preferences like what kind of room sorry looking for is it like you are looking for hotels or a black market hostel or kind of a resort? I think I'll choose a resort. It is better for me. Resorts with swimming pool? No. It is already very cold there. Sorry. It is already very cold there. So it's already very cold there. Okay. Okay. Okay. So we have two resorts near new manani. Yeah. I'll send you the details over what's the valid work for you? Yes. Sure. Okay. Anything else you want to ask except the rooms like do you also looking for transportation from Delhi? We go by transportation from Delhi to Manali. No. I'm taking my own car. You are taking your own car. Okay. And do you want to include any activities? I just have a reference from a hotel or resort anything if it can be near Hadim Bhadivit temple. It can be near Hadim Bhadivit temple. Okay. Noted. And what about the activities? Are you looking for any activities in Manali? Not so much. We are there for only some fun and you know the boys fun. Okay. Got it. Okay.\""
            ],
            "application/vnd.google.colaboratory.intrinsic+json": {
              "type": "string"
            }
          },
          "metadata": {},
          "execution_count": 55
        }
      ]
    },
    {
      "cell_type": "markdown",
      "source": [
        "###Transform transcription text into a conversation format"
      ],
      "metadata": {
        "id": "zn0pDIEWVGK1"
      }
    },
    {
      "cell_type": "code",
      "source": [
        "import re\n",
        "import json\n",
        "\n",
        "# Split the text into sentences using '.', '?', and '!' as separators\n",
        "sentences = re.split(r'[.!?]', transcription_text)\n",
        "\n",
        "# Initialize variables to keep track of the caller and callee\n",
        "caller = None\n",
        "callee = None\n",
        "\n",
        "# Create a list to store the conversation pairs\n",
        "conversation = []\n",
        "\n",
        "# Iterate through the sentences and create conversation pairs\n",
        "for sentence in sentences:\n",
        "    sentence = sentence.strip()  # Remove leading/trailing whitespace\n",
        "    if sentence:\n",
        "        if caller is None:\n",
        "            caller = sentence\n",
        "        else:\n",
        "            callee = sentence\n",
        "\n",
        "        if caller and callee:\n",
        "            conversation.append({\"caller\": caller, \"callee\": callee})\n",
        "            caller = None\n",
        "            callee = None\n"
      ],
      "metadata": {
        "id": "2Z6aAmshJvb7"
      },
      "execution_count": 59,
      "outputs": []
    },
    {
      "cell_type": "markdown",
      "source": [
        "###save the caller-callee conversation in a JSON file"
      ],
      "metadata": {
        "id": "qwrFcUVmVLpu"
      }
    },
    {
      "cell_type": "code",
      "source": [
        "# Save the conversation as a JSON file\n",
        "with open(\"conversation.json\", \"w\") as json_file:\n",
        "    json.dump(conversation, json_file, indent=4)\n",
        "\n",
        "print(\"Conversation saved to conversation.json\")"
      ],
      "metadata": {
        "colab": {
          "base_uri": "https://localhost:8080/"
        },
        "id": "6wGozgn7Mbmz",
        "outputId": "aaae77f8-0cae-4e1f-f270-0786b7e45931"
      },
      "execution_count": 60,
      "outputs": [
        {
          "output_type": "stream",
          "name": "stdout",
          "text": [
            "Conversation saved to conversation.json\n"
          ]
        }
      ]
    },
    {
      "cell_type": "markdown",
      "source": [
        "###save the caller-callee conversation in a JSON file"
      ],
      "metadata": {
        "id": "qqDiDFCYVSv3"
      }
    },
    {
      "cell_type": "code",
      "source": [
        "# Read the JSON file\n",
        "with open(\"conversation.json\", \"r\") as json_file:\n",
        "    conversation = json.load(json_file)\n",
        "\n",
        "# Print the conversation\n",
        "for pair in conversation:\n",
        "    print(\"Caller:\", pair[\"caller\"])\n",
        "    print(\"Callee:\", pair[\"callee\"])\n",
        "    print()"
      ],
      "metadata": {
        "colab": {
          "base_uri": "https://localhost:8080/"
        },
        "id": "JXArA89-M3md",
        "outputId": "5d2493e6-3d4c-4c7f-b93a-2b7017c71d65"
      },
      "execution_count": 61,
      "outputs": [
        {
          "output_type": "stream",
          "name": "stdout",
          "text": [
            "Caller: Hello\n",
            "Callee: Hello\n",
            "\n",
            "Caller: Hi, Joshad\n",
            "Callee: Hi\n",
            "\n",
            "Caller: Hi\n",
            "Callee: So this is actually I'm calling from my wife, you have a maiden query on Facebook regarding the travel booking to Manali right\n",
            "\n",
            "Caller: Yeah\n",
            "Callee: Yeah\n",
            "\n",
            "Caller: So can I know the details like for which date or for which date or your local phone\n",
            "Callee: I'm looking for a week forward from now for for my friends and me\n",
            "\n",
            "Caller: How many people sorry\n",
            "Callee: Total five including me\n",
            "\n",
            "Caller: Okay\n",
            "Callee: And can you confirm the dates\n",
            "\n",
            "Caller: It will be one week from now\n",
            "Callee: It will be one week from now\n",
            "\n",
            "Caller: So today is 16 16 plus seven that is 23 around like 23 24 8\n",
            "Callee: Yeah\n",
            "\n",
            "Caller: Around 24 24\n",
            "Callee: Okay\n",
            "\n",
            "Caller: Four days and five nights\n",
            "Callee: Okay\n",
            "\n",
            "Caller: Four days\n",
            "Callee: That is five days and four nights right\n",
            "\n",
            "Caller: Yeah\n",
            "Callee: That is how it works\n",
            "\n",
            "Caller: Okay\n",
            "Callee: So can you know your preferences like what kind of room sorry looking for is it like you are looking for hotels or a black market hostel or kind of a resort\n",
            "\n",
            "Caller: I think I'll choose a resort\n",
            "Callee: It is better for me\n",
            "\n",
            "Caller: Resorts with swimming pool\n",
            "Callee: No\n",
            "\n",
            "Caller: It is already very cold there\n",
            "Callee: Sorry\n",
            "\n",
            "Caller: It is already very cold there\n",
            "Callee: So it's already very cold there\n",
            "\n",
            "Caller: Okay\n",
            "Callee: Okay\n",
            "\n",
            "Caller: Okay\n",
            "Callee: So we have two resorts near new manani\n",
            "\n",
            "Caller: Yeah\n",
            "Callee: I'll send you the details over what's the valid work for you\n",
            "\n",
            "Caller: Yes\n",
            "Callee: Sure\n",
            "\n",
            "Caller: Okay\n",
            "Callee: Anything else you want to ask except the rooms like do you also looking for transportation from Delhi\n",
            "\n",
            "Caller: We go by transportation from Delhi to Manali\n",
            "Callee: No\n",
            "\n",
            "Caller: I'm taking my own car\n",
            "Callee: You are taking your own car\n",
            "\n",
            "Caller: Okay\n",
            "Callee: And do you want to include any activities\n",
            "\n",
            "Caller: I just have a reference from a hotel or resort anything if it can be near Hadim Bhadivit temple\n",
            "Callee: It can be near Hadim Bhadivit temple\n",
            "\n",
            "Caller: Okay\n",
            "Callee: Noted\n",
            "\n",
            "Caller: And what about the activities\n",
            "Callee: Are you looking for any activities in Manali\n",
            "\n",
            "Caller: Not so much\n",
            "Callee: We are there for only some fun and you know the boys fun\n",
            "\n",
            "Caller: Okay\n",
            "Callee: Got it\n",
            "\n"
          ]
        }
      ]
    },
    {
      "cell_type": "code",
      "source": [],
      "metadata": {
        "colab": {
          "base_uri": "https://localhost:8080/"
        },
        "id": "Ytw6_oybNZKM",
        "outputId": "8fcb023b-9e72-408f-b626-279bcb000688"
      },
      "execution_count": 62,
      "outputs": [
        {
          "output_type": "stream",
          "name": "stdout",
          "text": [
            "j\n"
          ]
        }
      ]
    },
    {
      "cell_type": "markdown",
      "source": [
        "I initially encountered challenges with audio segmentation and transcription. Adjusting parameters like silence threshold and minimum silence length helped increase the number of segments but resulted in inaccurate transcriptions. To resolve this, I adopted an alternative approach, where I transcribed the complete audio and then split the transcription text by punctuation marks. This approach allowed me to obtain accurate text-based segments, eliminating the issues I encountered during the audio segmentation. This experience taught me the importance of flexibility in problem-solving and the value of considering alternative methods when facing challenges in a project."
      ],
      "metadata": {
        "id": "RcC8E9y5VaZI"
      }
    },
    {
      "cell_type": "markdown",
      "source": [
        "**findings** -\n",
        "\n",
        "1. audio quality is bad\n",
        "2. PyDub is not offering advanced method of audio segmantation like Voice Activity Detection (VAD) and Speaker Diarization"
      ],
      "metadata": {
        "id": "TEu0DDGuWs9o"
      }
    },
    {
      "cell_type": "code",
      "source": [],
      "metadata": {
        "id": "qIv81fmHWruA"
      },
      "execution_count": null,
      "outputs": []
    }
  ]
}